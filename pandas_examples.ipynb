{
 "cells": [
  {
   "cell_type": "markdown",
   "metadata": {},
   "source": [
    "# Examples - Pandas Module"
   ]
  },
  {
   "cell_type": "code",
   "execution_count": 22,
   "metadata": {
    "scrolled": true
   },
   "outputs": [
    {
     "name": "stdout",
     "output_type": "stream",
     "text": [
      "                    avg_value unit  updated_timestamp\n",
      "temperature_sensor       23.5    C         1607799170\n",
      "humidity_sensor           3.0  %RH         1607799270\n",
      "battery_sensor           95.0  %EL         1607799470\n"
     ]
    }
   ],
   "source": [
    "import pandas as pd\n",
    "\n",
    "#Create a new pandas DataFrame\n",
    "data_frame = pd.DataFrame([[23.5,\"C\", 1607799170], [3,\"%RH\", 1607799270], [95,\"%EL\", 1607799470]],\n",
    "                         index=[\"temperature_sensor\", \"humidity_sensor\", \"battery_sensor\"],\n",
    "                         columns=['avg_value', \"unit\", \"updated_timestamp\"])\n",
    "print(data_frame)"
   ]
  },
  {
   "cell_type": "code",
   "execution_count": 23,
   "metadata": {
    "scrolled": false
   },
   "outputs": [
    {
     "name": "stdout",
     "output_type": "stream",
     "text": [
      "temperature_sensor    23.5\n",
      "humidity_sensor        3.0\n",
      "battery_sensor        95.0\n",
      "Name: avg_value, dtype: float64\n"
     ]
    }
   ],
   "source": [
    "#Select target column\n",
    "avg_values_column_df = data_frame['avg_value']\n",
    "print(avg_values_column_df)"
   ]
  },
  {
   "cell_type": "code",
   "execution_count": 24,
   "metadata": {},
   "outputs": [
    {
     "name": "stdout",
     "output_type": "stream",
     "text": [
      "                    avg_value unit\n",
      "temperature_sensor       23.5    C\n",
      "humidity_sensor           3.0  %RH\n",
      "battery_sensor           95.0  %EL\n"
     ]
    }
   ],
   "source": [
    "#Select multiple columns\n",
    "multiple_columns_df = data_frame[['avg_value', 'unit']]\n",
    "print(multiple_columns_df)"
   ]
  },
  {
   "cell_type": "code",
   "execution_count": 11,
   "metadata": {},
   "outputs": [
    {
     "name": "stdout",
     "output_type": "stream",
     "text": [
      "                    avg_value unit\n",
      "temperature_sensor       23.5    C\n"
     ]
    }
   ],
   "source": [
    "#Row selection with index\n",
    "selected_rows = data_frame[0:1]\n",
    "print(selected_rows)"
   ]
  },
  {
   "cell_type": "code",
   "execution_count": 25,
   "metadata": {
    "scrolled": false
   },
   "outputs": [
    {
     "name": "stdout",
     "output_type": "stream",
     "text": [
      "                 avg_value unit  updated_timestamp\n",
      "humidity_sensor        3.0  %RH         1607799270\n",
      "battery_sensor        95.0  %EL         1607799470\n"
     ]
    }
   ],
   "source": [
    "#Row selection with names\n",
    "selected_rows = data_frame['humidity_sensor':'battery_sensor']\n",
    "print(selected_rows)"
   ]
  },
  {
   "cell_type": "code",
   "execution_count": 26,
   "metadata": {},
   "outputs": [
    {
     "name": "stdout",
     "output_type": "stream",
     "text": [
      "                 avg_value unit\n",
      "humidity_sensor        3.0  %RH\n",
      "battery_sensor        95.0  %EL\n"
     ]
    }
   ],
   "source": [
    "#Row and Columns selection by names\n",
    "selected_group = data_frame.loc['humidity_sensor':'battery_sensor', 'avg_value':'unit']\n",
    "print(selected_group)"
   ]
  },
  {
   "cell_type": "code",
   "execution_count": 31,
   "metadata": {},
   "outputs": [
    {
     "name": "stdout",
     "output_type": "stream",
     "text": [
      "                unit  updated_timestamp\n",
      "humidity_sensor  %RH         1607799270\n",
      "battery_sensor   %EL         1607799470\n"
     ]
    }
   ],
   "source": [
    "#Row and Columns selection by positions\n",
    "selected_group = data_frame.iloc[1:3, 1:3]\n",
    "print(selected_group)"
   ]
  },
  {
   "cell_type": "code",
   "execution_count": 34,
   "metadata": {},
   "outputs": [
    {
     "name": "stdout",
     "output_type": "stream",
     "text": [
      "                    avg_value unit  updated_timestamp\n",
      "temperature_sensor       23.5    C         1607799170\n",
      "humidity_sensor           3.0  %RH         1607899270\n",
      "battery_sensor           95.0  %EL         1607899270\n"
     ]
    }
   ],
   "source": [
    "#Copy the DataFrame\n",
    "data_frame_2 = data_frame.copy()\n",
    "\n",
    "#Update a selected range in the DataFrame with a new value (in our example the timestamp)\n",
    "data_frame_2.loc[['humidity_sensor','battery_sensor'], 'updated_timestamp'] = 1607899270\n",
    "\n",
    "print(data_frame_2)"
   ]
  },
  {
   "cell_type": "code",
   "execution_count": 36,
   "metadata": {},
   "outputs": [
    {
     "name": "stdout",
     "output_type": "stream",
     "text": [
      "                    avg_value unit  updated_timestamp          manufacturer\n",
      "temperature_sensor       23.5    C         1607799170      ACME Corporation\n",
      "humidity_sensor           3.0  %RH         1607799270  Umbrella Corporation\n",
      "battery_sensor           95.0  %EL         1607799470           Mapple Inc.\n"
     ]
    }
   ],
   "source": [
    "#Add a new column to the DataFrame\n",
    "data_frame_3 = data_frame.copy()\n",
    "data_frame_3['manufacturer'] = [\"ACME Corporation\", \"Umbrella Corporation\", \"Mapple Inc.\"]\n",
    "print(data_frame_3)"
   ]
  },
  {
   "cell_type": "code",
   "execution_count": 91,
   "metadata": {},
   "outputs": [
    {
     "name": "stdout",
     "output_type": "stream",
     "text": [
      "                    avg_value unit  updated_timestamp          manufacturer\n",
      "temperature_sensor       23.5    C         1607799170      ACME Corporation\n",
      "humidity_sensor           3.0  %RH         1607799270  Umbrella Corporation\n"
     ]
    }
   ],
   "source": [
    "#Slicing on both axis using the isin function\n",
    "sliced_df = data_frame_3[data_frame_3['manufacturer'].isin([\"ACME Corporation\", \"Umbrella Corporation\"])]\n",
    "print(sliced_df)"
   ]
  },
  {
   "cell_type": "code",
   "execution_count": 92,
   "metadata": {
    "scrolled": true
   },
   "outputs": [
    {
     "name": "stdout",
     "output_type": "stream",
     "text": [
      "                device_id  avg_value unit  updated_timestamp  \\\n",
      "2         humidity_sensor        3.0  %RH         1607799270   \n",
      "0  temperature_sensor_001       23.5    C         1607799170   \n",
      "1  temperature_sensor_002       24.5    C         1607799270   \n",
      "3          battery_sensor       95.0  %EL         1607799370   \n",
      "\n",
      "                 type          manufacturer  \n",
      "2      iot.sensor.hum      ACME Corporation  \n",
      "0     iot.sensor.temp      ACME Corporation  \n",
      "1     iot.sensor.temp      ACME Corporation  \n",
      "3  iot.sensor.battery  Umbrella Corporation  \n"
     ]
    }
   ],
   "source": [
    "#ASC sorting values by name\n",
    "sorted_df = data_frame.sort_values(by='avg_value')\n",
    "print(sorted_df)"
   ]
  },
  {
   "cell_type": "code",
   "execution_count": 93,
   "metadata": {
    "scrolled": true
   },
   "outputs": [
    {
     "name": "stdout",
     "output_type": "stream",
     "text": [
      "                device_id  avg_value unit  updated_timestamp  \\\n",
      "3          battery_sensor       95.0  %EL         1607799370   \n",
      "1  temperature_sensor_002       24.5    C         1607799270   \n",
      "0  temperature_sensor_001       23.5    C         1607799170   \n",
      "2         humidity_sensor        3.0  %RH         1607799270   \n",
      "\n",
      "                 type          manufacturer  \n",
      "3  iot.sensor.battery  Umbrella Corporation  \n",
      "1     iot.sensor.temp      ACME Corporation  \n",
      "0     iot.sensor.temp      ACME Corporation  \n",
      "2      iot.sensor.hum      ACME Corporation  \n"
     ]
    }
   ],
   "source": [
    "#DESC sorting values by name\n",
    "sorted_df = data_frame.sort_values(by='avg_value', ascending=False)\n",
    "print(sorted_df)"
   ]
  },
  {
   "cell_type": "code",
   "execution_count": 94,
   "metadata": {
    "scrolled": true
   },
   "outputs": [
    {
     "name": "stdout",
     "output_type": "stream",
     "text": [
      "   updated_timestamp unit                type          manufacturer  \\\n",
      "0         1607799170    C     iot.sensor.temp      ACME Corporation   \n",
      "1         1607799270    C     iot.sensor.temp      ACME Corporation   \n",
      "2         1607799270  %RH      iot.sensor.hum      ACME Corporation   \n",
      "3         1607799370  %EL  iot.sensor.battery  Umbrella Corporation   \n",
      "\n",
      "                device_id  avg_value  \n",
      "0  temperature_sensor_001       23.5  \n",
      "1  temperature_sensor_002       24.5  \n",
      "2         humidity_sensor        3.0  \n",
      "3          battery_sensor       95.0  \n"
     ]
    }
   ],
   "source": [
    "#Sorting column or index (0 or ‘index’, 1 or ‘columns’)\n",
    "sorted_df = data_frame.sort_index(axis=1, ascending=False)\n",
    "print(sorted_df)"
   ]
  },
  {
   "cell_type": "code",
   "execution_count": 97,
   "metadata": {},
   "outputs": [
    {
     "name": "stdout",
     "output_type": "stream",
     "text": [
      "                    avg_value unit  updated_timestamp\n",
      "temperature_sensor       95.0    C         1607799170\n",
      "humidity_sensor          23.5  %RH         1607799270\n",
      "battery_sensor            3.0  %EL         1607799370\n"
     ]
    }
   ],
   "source": [
    "#DataFrame from Python dictionaries using NumPy\n",
    "import numpy as np\n",
    "\n",
    "data_frame = pd.DataFrame(\n",
    "    {\n",
    "        'avg_value': np.array([95.0, 23.5, 3.0]),\n",
    "        'unit': np.array(['C', '%RH', '%EL']),\n",
    "        'updated_timestamp': np.array([1607799170, 1607799270, 1607799370])\n",
    "    },\n",
    "    index=['temperature_sensor', 'humidity_sensor', 'battery_sensor']\n",
    ")\n",
    "\n",
    "print(data_frame)"
   ]
  },
  {
   "cell_type": "code",
   "execution_count": 96,
   "metadata": {},
   "outputs": [
    {
     "name": "stdout",
     "output_type": "stream",
     "text": [
      "                device_id  avg_value unit  updated_timestamp  \\\n",
      "0  temperature_sensor_001       23.5    C         1607799170   \n",
      "1  temperature_sensor_002       24.5    C         1607799270   \n",
      "2         humidity_sensor        3.0  %RH         1607799270   \n",
      "3          battery_sensor       95.0  %EL         1607799370   \n",
      "\n",
      "                 type          manufacturer  \n",
      "0     iot.sensor.temp      ACME Corporation  \n",
      "1     iot.sensor.temp      ACME Corporation  \n",
      "2      iot.sensor.hum      ACME Corporation  \n",
      "3  iot.sensor.battery  Umbrella Corporation  \n"
     ]
    }
   ],
   "source": [
    "#DataFrame from Python\n",
    "data_frame = pd.DataFrame({\n",
    "        'device_id': ['temperature_sensor_001', 'temperature_sensor_002', 'humidity_sensor', 'battery_sensor'], \n",
    "        'avg_value':[23.5, 24.5, 3, 95], \n",
    "        'unit':['C', 'C', '%RH', '%EL'],\n",
    "        'updated_timestamp':[1607799170, 1607799270,  1607799270, 1607799370],\n",
    "        'type': ['iot.sensor.temp', 'iot.sensor.temp', 'iot.sensor.hum', 'iot.sensor.battery'],\n",
    "        'manufacturer': [\"ACME Corporation\", \"ACME Corporation\", \"ACME Corporation\", \"Umbrella Corporation\"]\n",
    "}\n",
    ")\n",
    "\n",
    "print(data_frame)"
   ]
  },
  {
   "cell_type": "code",
   "execution_count": 75,
   "metadata": {
    "scrolled": true
   },
   "outputs": [
    {
     "name": "stdout",
     "output_type": "stream",
     "text": [
      "                    avg_value  updated_timestamp\n",
      "type                                            \n",
      "iot.sensor.battery       95.0         1607799370\n",
      "iot.sensor.hum            3.0         1607799270\n",
      "iot.sensor.temp          24.0         1607799220\n"
     ]
    }
   ],
   "source": [
    "#Group By and Mean Value\n",
    "grouped_manufacturer_data = data_frame.groupby(['type']).mean()\n",
    "print(grouped_manufacturer_data)"
   ]
  },
  {
   "cell_type": "code",
   "execution_count": 80,
   "metadata": {
    "scrolled": true
   },
   "outputs": [
    {
     "name": "stdout",
     "output_type": "stream",
     "text": [
      "                    avg_value  updated_timestamp\n",
      "type                                            \n",
      "iot.sensor.battery        NaN                NaN\n",
      "iot.sensor.hum            NaN                NaN\n",
      "iot.sensor.temp      0.707107          70.710678\n"
     ]
    }
   ],
   "source": [
    "#Group by and evaluate Standard Deviation\n",
    "print(data_frame.groupby(['type']).std())"
   ]
  },
  {
   "cell_type": "code",
   "execution_count": 83,
   "metadata": {
    "scrolled": false
   },
   "outputs": [
    {
     "name": "stdout",
     "output_type": "stream",
     "text": [
      "                      device_id  avg_value  unit  updated_timestamp  type\n",
      "manufacturer                                                             \n",
      "ACME Corporation              3          3     3                  3     3\n",
      "Umbrella Corporation          1          1     1                  1     1\n"
     ]
    }
   ],
   "source": [
    "#Group by and count\n",
    "print(data_frame.groupby(['manufacturer']).count())"
   ]
  },
  {
   "cell_type": "code",
   "execution_count": 86,
   "metadata": {
    "scrolled": true
   },
   "outputs": [
    {
     "name": "stdout",
     "output_type": "stream",
     "text": [
      "                                 device_id  avg_value unit  updated_timestamp  \\\n",
      "type                                                                            \n",
      "iot.sensor.battery          battery_sensor       95.0  %EL         1607799370   \n",
      "iot.sensor.hum             humidity_sensor        3.0  %RH         1607799270   \n",
      "iot.sensor.temp     temperature_sensor_002       24.5    C         1607799270   \n",
      "\n",
      "                            manufacturer  \n",
      "type                                      \n",
      "iot.sensor.battery  Umbrella Corporation  \n",
      "iot.sensor.hum          ACME Corporation  \n",
      "iot.sensor.temp         ACME Corporation  \n"
     ]
    }
   ],
   "source": [
    "#Group by type and Max values\n",
    "print(data_frame.groupby(['type']).max())"
   ]
  },
  {
   "cell_type": "code",
   "execution_count": 87,
   "metadata": {},
   "outputs": [
    {
     "name": "stdout",
     "output_type": "stream",
     "text": [
      "                                 device_id  avg_value unit  updated_timestamp  \\\n",
      "type                                                                            \n",
      "iot.sensor.battery          battery_sensor       95.0  %EL         1607799370   \n",
      "iot.sensor.hum             humidity_sensor        3.0  %RH         1607799270   \n",
      "iot.sensor.temp     temperature_sensor_001       23.5    C         1607799170   \n",
      "\n",
      "                            manufacturer  \n",
      "type                                      \n",
      "iot.sensor.battery  Umbrella Corporation  \n",
      "iot.sensor.hum          ACME Corporation  \n",
      "iot.sensor.temp         ACME Corporation  \n"
     ]
    }
   ],
   "source": [
    "#Group by type and Min values\n",
    "print(data_frame.groupby(['type']).min())"
   ]
  },
  {
   "cell_type": "code",
   "execution_count": 88,
   "metadata": {},
   "outputs": [
    {
     "name": "stdout",
     "output_type": "stream",
     "text": [
      "                    avg_value  updated_timestamp\n",
      "type                                            \n",
      "iot.sensor.battery       95.0         1607799370\n",
      "iot.sensor.hum            3.0         1607799270\n",
      "iot.sensor.temp          24.0         1607799220\n"
     ]
    }
   ],
   "source": [
    "#Group by type and Median Values\n",
    "print(data_frame.groupby(['type']).median())"
   ]
  },
  {
   "cell_type": "code",
   "execution_count": null,
   "metadata": {},
   "outputs": [],
   "source": []
  }
 ],
 "metadata": {
  "kernelspec": {
   "display_name": "Python 3",
   "language": "python",
   "name": "python3"
  },
  "language_info": {
   "codemirror_mode": {
    "name": "ipython",
    "version": 3
   },
   "file_extension": ".py",
   "mimetype": "text/x-python",
   "name": "python",
   "nbconvert_exporter": "python",
   "pygments_lexer": "ipython3",
   "version": "3.9.0"
  }
 },
 "nbformat": 4,
 "nbformat_minor": 4
}
