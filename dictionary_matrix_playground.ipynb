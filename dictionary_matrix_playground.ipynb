{
 "cells": [
  {
   "cell_type": "markdown",
   "metadata": {},
   "source": [
    "# Dictionary Introduction & Initialization"
   ]
  },
  {
   "cell_type": "code",
   "execution_count": 4,
   "metadata": {
    "scrolled": true
   },
   "outputs": [
    {
     "name": "stdout",
     "output_type": "stream",
     "text": [
      "{'id': 'uuid:00001', 'type': 'temperature_sensor'}\n"
     ]
    }
   ],
   "source": [
    "#Init an empty dictionary\n",
    "so_descriptor={}\n",
    "\n",
    "#Add new keys to the dictionary\n",
    "so_descriptor[\"id\"]=\"uuid:00001\"\n",
    "so_descriptor[\"type\"]=\"temperature_sensor\"\n",
    "\n",
    "#Print the dictionary\n",
    "print(so_descriptor)"
   ]
  },
  {
   "cell_type": "code",
   "execution_count": 6,
   "metadata": {},
   "outputs": [
    {
     "name": "stdout",
     "output_type": "stream",
     "text": [
      "{'id': 'uuid:00001', 'type': 'temperature_sensor', 'manufacturer': 'acme inc'}\n",
      "{'id': 'uuid:00001', 'type': 'temperature_sensor', 'manufacturer': 'ACME Inc.'}\n",
      "{'id': 'uuid:00001', 'type': 'temperature_sensor'}\n"
     ]
    }
   ],
   "source": [
    "#Init the dictionary with initial values\n",
    "so_descriptor={\"id\":\"uuid:00001\",\"type\":\"temperature_sensor\"}\n",
    "\n",
    "#Add a new key and value to the dictionary\n",
    "so_descriptor[\"manufacturer\"]=\"acme inc\"\n",
    "\n",
    "#Print the dictionary\n",
    "print(so_descriptor)\n",
    "\n",
    "#Change existing Value\n",
    "so_descriptor[\"manufacturer\"]=\"ACME Inc.\"\n",
    "print(so_descriptor)\n",
    "\n",
    "#Remove key and value from the dictionary\n",
    "so_descriptor.pop(\"manufacturer\")\n",
    "print(so_descriptor)\n"
   ]
  },
  {
   "cell_type": "markdown",
   "metadata": {},
   "source": [
    "# Dictionary Iteraction"
   ]
  },
  {
   "cell_type": "code",
   "execution_count": 10,
   "metadata": {},
   "outputs": [
    {
     "name": "stdout",
     "output_type": "stream",
     "text": [
      "Smart Object ID: uuid:00001\n"
     ]
    }
   ],
   "source": [
    "#Init the dictionary\n",
    "so_descriptor={\"id\":\"uuid:00001\",\"type\":\"temperature_sensor\",\"manufacturer\":\"ACME Inc.\"}\n",
    "\n",
    "#Iterate over the dictionary (they are unordered)\n",
    "for key in so_descriptor:\n",
    "    if key==\"id\":\n",
    "        print(\"Smart Object ID: \" + str(so_descriptor[key]))"
   ]
  },
  {
   "cell_type": "markdown",
   "metadata": {},
   "source": [
    "# Matrix"
   ]
  },
  {
   "cell_type": "code",
   "execution_count": 22,
   "metadata": {},
   "outputs": [
    {
     "name": "stdout",
     "output_type": "stream",
     "text": [
      "Column 0 sums to 148\n",
      "Column 1 sums to 99\n",
      "Column 2 sums to 146\n",
      "Column 3 sums to 184\n"
     ]
    }
   ],
   "source": [
    "#Init the demo matrix\n",
    "matrix = [[12, 42, 34, 89], \n",
    "          [91, 31, 21, 76], \n",
    "          [45, 26, 91, 19]]\n",
    "\n",
    "#Get number of rows\n",
    "rows = len(matrix) \n",
    "\n",
    "#Get number of columns\n",
    "cols = len(matrix[0])\n",
    "\n",
    "for x in range(cols): \n",
    "    total = 0\n",
    "    for y in range(rows): \n",
    "        val = matrix[y][x] \n",
    "        total += val\n",
    "    print(\"Column \" + str(x) + \" sums to \" + str(total))"
   ]
  },
  {
   "cell_type": "code",
   "execution_count": 29,
   "metadata": {},
   "outputs": [
    {
     "name": "stdout",
     "output_type": "stream",
     "text": [
      "Col # 0 sums to 12\n",
      "Col # 0 sums to 103\n",
      "Col # 0 sums to 148\n",
      "Col # 1 sums to 42\n",
      "Col # 1 sums to 73\n",
      "Col # 1 sums to 99\n",
      "Col # 2 sums to 34\n",
      "Col # 2 sums to 55\n",
      "Col # 2 sums to 146\n",
      "Col # 3 sums to 89\n",
      "Col # 3 sums to 165\n",
      "Col # 3 sums to 184\n"
     ]
    }
   ],
   "source": [
    "#Flatten Matrix represented as List\n",
    "matrix = [12, 42, 34, 89, \n",
    "          91, 31, 21, 76, \n",
    "          45, 26, 91, 19]\n",
    "\n",
    "#The number of row can not be retrieved from the matrix (it is a list)\n",
    "rows = 3 \n",
    "\n",
    "#Get number of columns\n",
    "cols = len(matrix) // rows\n",
    "\n",
    "#Matrix -> List (Flatten matrix)\n",
    "for x in range(cols): \n",
    "    total = 0\n",
    "    for y in range(rows):\n",
    "        val = matrix[y * cols + x]\n",
    "        total += val\n",
    "        print(\"Col #\", x, \"sums to\", total)"
   ]
  },
  {
   "cell_type": "code",
   "execution_count": null,
   "metadata": {},
   "outputs": [],
   "source": []
  }
 ],
 "metadata": {
  "kernelspec": {
   "display_name": "Python 3",
   "language": "python",
   "name": "python3"
  },
  "language_info": {
   "codemirror_mode": {
    "name": "ipython",
    "version": 3
   },
   "file_extension": ".py",
   "mimetype": "text/x-python",
   "name": "python",
   "nbconvert_exporter": "python",
   "pygments_lexer": "ipython3",
   "version": "3.9.0"
  }
 },
 "nbformat": 4,
 "nbformat_minor": 4
}
