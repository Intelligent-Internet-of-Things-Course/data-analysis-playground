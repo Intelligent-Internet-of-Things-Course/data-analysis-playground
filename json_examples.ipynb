{
 "cells": [
  {
   "cell_type": "markdown",
   "metadata": {},
   "source": [
    "# Working with JSON Format"
   ]
  },
  {
   "cell_type": "code",
   "execution_count": 6,
   "metadata": {
    "scrolled": true
   },
   "outputs": [
    {
     "name": "stdout",
     "output_type": "stream",
     "text": [
      "{'device_id': 'temperature_0001',\n",
      " 'timestamp': 1607784715,\n",
      " 'type': 'iot.dummy.sensor.temperatue',\n",
      " 'value': 21.5}\n",
      "{'device_id': 'temperature_0001',\n",
      " 'timestamp': 1607785715,\n",
      " 'type': 'iot.dummy.sensor.temperatue',\n",
      " 'value': 20.5}\n",
      "{'device_id': 'temperature_0001',\n",
      " 'timestamp': 1607786715,\n",
      " 'type': 'iot.dummy.sensor.temperatue',\n",
      " 'value': 21.2}\n",
      "{'device_id': 'temperature_0001',\n",
      " 'timestamp': 1607787715,\n",
      " 'type': 'iot.dummy.sensor.temperatue',\n",
      " 'value': 21.1}\n",
      "{'device_id': 'temperature_0001',\n",
      " 'timestamp': 1607788715,\n",
      " 'type': 'iot.dummy.sensor.temperatue',\n",
      " 'value': 21.6}\n"
     ]
    }
   ],
   "source": [
    "import os\n",
    "import json \n",
    "from pprint import pprint\n",
    "\n",
    "data_folder = 'data' \n",
    "data_file = 'demo_sensor_data.json'\n",
    "\n",
    "file_path = os.path.join(data_folder,data_file)\n",
    "\n",
    "#Read the target file line by line and pars each line as a JSON object\n",
    "with open(file_path) as json_file:\n",
    "    for line in json_file.readlines():\n",
    "        json_data = json.loads(line)\n",
    "        #pretty print\n",
    "        pprint(json_data)"
   ]
  },
  {
   "cell_type": "code",
   "execution_count": 16,
   "metadata": {
    "scrolled": true
   },
   "outputs": [
    {
     "name": "stdout",
     "output_type": "stream",
     "text": [
      "[21.5, 20.5, 21.2, 21.1, 21.6]\n"
     ]
    }
   ],
   "source": [
    "value_array = []\n",
    "\n",
    "#Read the target file line by line and pars each line as a JSON object\n",
    "with open(file_path) as json_file:\n",
    "    for line in json_file.readlines():\n",
    "        json_data = json.loads(line)\n",
    "        #Access only a single value of the Json Object\n",
    "        value_array.append(json_data['value'])\n",
    "\n",
    "print(value_array)"
   ]
  },
  {
   "cell_type": "code",
   "execution_count": 8,
   "metadata": {},
   "outputs": [
    {
     "name": "stdout",
     "output_type": "stream",
     "text": [
      "{\"device_id\": \"temperature_0002\", \"type\": \"iot.dummy.sensor.temperatue\", \"value\": 23.5, \"timestamp\": 1607789715}\n"
     ]
    }
   ],
   "source": [
    "#Create a Pyhon object and serialize into a JSON String\n",
    "# A Python object (dict):\n",
    "my_sensor = {\n",
    "    \"device_id\":\"temperature_0002\", \n",
    "    \"type\":\"iot.dummy.sensor.temperatue\", \n",
    "    \"value\":23.5, \n",
    "    \"timestamp\": 1607789715\n",
    "}\n",
    "\n",
    "# convert into JSON:\n",
    "json_string = json.dumps(my_sensor)\n",
    "\n",
    "# the result is a JSON string:\n",
    "print(json_string) "
   ]
  },
  {
   "cell_type": "markdown",
   "metadata": {},
   "source": [
    "# JSON & Pandas Module"
   ]
  },
  {
   "cell_type": "code",
   "execution_count": 17,
   "metadata": {
    "scrolled": true
   },
   "outputs": [
    {
     "name": "stdout",
     "output_type": "stream",
     "text": [
      "          device_id                         type  value           timestamp\n",
      "0  temperature_0001  iot.dummy.sensor.temperatue   21.5 2020-12-12 14:51:55\n",
      "1  temperature_0001  iot.dummy.sensor.temperatue   20.5 2020-12-12 15:08:35\n",
      "2  temperature_0001  iot.dummy.sensor.temperatue   21.2 2020-12-12 15:25:15\n",
      "3  temperature_0001  iot.dummy.sensor.temperatue   21.1 2020-12-12 15:41:55\n",
      "4  temperature_0001  iot.dummy.sensor.temperatue   21.6 2020-12-12 15:58:35\n"
     ]
    }
   ],
   "source": [
    "import pandas as pd\n",
    "\n",
    "#Read the target Json file. lines=True specifies that each lines contains a different Json Object\n",
    "data_frame = pd.read_json(file_path, lines=True)\n",
    "print(data_frame)"
   ]
  },
  {
   "cell_type": "code",
   "execution_count": 18,
   "metadata": {
    "scrolled": true
   },
   "outputs": [
    {
     "name": "stdout",
     "output_type": "stream",
     "text": [
      "                 id  value\n",
      "0  temperature_0001   21.5\n",
      "1  temperature_0002   22.0\n",
      "2  temperature_0003   23.2\n",
      "3  temperature_0004   19.0\n"
     ]
    }
   ],
   "source": [
    "#Init a demo sensor data structure\n",
    "sensors_data = {'id': ['temperature_0001','temperature_0002','temperature_0003','temperature_0004'],\n",
    "                'value': [21.5, 22, 23.2, 19]\n",
    "                }\n",
    "\n",
    "#Create a target Pandas DataFrame from the available sensor data\n",
    "df = pd.DataFrame(sensors_data, columns = ['id', 'value'])\n",
    "\n",
    "print(df)"
   ]
  },
  {
   "cell_type": "code",
   "execution_count": 19,
   "metadata": {},
   "outputs": [
    {
     "name": "stdout",
     "output_type": "stream",
     "text": [
      "{\"id\":{\"0\":\"temperature_0001\",\"1\":\"temperature_0002\",\"2\":\"temperature_0003\",\"3\":\"temperature_0004\"},\"value\":{\"0\":21.5,\"1\":22.0,\"2\":23.2,\"3\":19.0}}\n"
     ]
    }
   ],
   "source": [
    "#Create a Json String with Pandas\n",
    "json_result = df.to_json()\n",
    "print(json_result)"
   ]
  },
  {
   "cell_type": "code",
   "execution_count": 21,
   "metadata": {
    "scrolled": true
   },
   "outputs": [
    {
     "name": "stdout",
     "output_type": "stream",
     "text": [
      "Pandas JSON File Correctly created !\n"
     ]
    }
   ],
   "source": [
    "#Write JSON data to target file\n",
    "df.to_json(\"data/temperature_sensor_data.json\")\n",
    "print(\"Pandas JSON File Correctly created !\")"
   ]
  },
  {
   "cell_type": "code",
   "execution_count": null,
   "metadata": {},
   "outputs": [],
   "source": []
  }
 ],
 "metadata": {
  "kernelspec": {
   "display_name": "Python 3",
   "language": "python",
   "name": "python3"
  },
  "language_info": {
   "codemirror_mode": {
    "name": "ipython",
    "version": 3
   },
   "file_extension": ".py",
   "mimetype": "text/x-python",
   "name": "python",
   "nbconvert_exporter": "python",
   "pygments_lexer": "ipython3",
   "version": "3.9.0"
  }
 },
 "nbformat": 4,
 "nbformat_minor": 4
}
