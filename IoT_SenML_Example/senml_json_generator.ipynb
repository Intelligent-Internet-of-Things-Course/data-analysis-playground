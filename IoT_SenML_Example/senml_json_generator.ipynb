{
 "cells": [
  {
   "cell_type": "code",
   "execution_count": 39,
   "metadata": {},
   "outputs": [],
   "source": [
    "import time\n",
    "import datetime\n",
    "import csv\n",
    "import os\n",
    "import json \n",
    "from pprint import pprint\n",
    "\n",
    "#s = \"2006-12-16 17:24:00\"\n",
    "#timestamp = int(time.mktime(datetime.datetime.strptime(s, \"%Y-%m-%d %H:%M:%S\").timetuple()))\n",
    "#print(timestamp)"
   ]
  },
  {
   "cell_type": "code",
   "execution_count": 40,
   "metadata": {
    "scrolled": true
   },
   "outputs": [
    {
     "name": "stdout",
     "output_type": "stream",
     "text": [
      "SenML Json File Correctly Created !\n"
     ]
    }
   ],
   "source": [
    "data_folder = '../data' \n",
    "data_file = 'smarthome_power_consumption_large.csv'\n",
    "\n",
    "file_path = os.path.join(data_folder,data_file)\n",
    "\n",
    "data_matrix = []\n",
    "header = []\n",
    "output_header = [\"timestamp\", \"device_id\", \"voltage\"]\n",
    "with open(file_path,\"r\") as f :\n",
    "    first_line = f.readline()\n",
    "    header = first_line.replace(\"\\n\",\"\").split(\",\")\n",
    "    for row in f.readlines():\n",
    "        #Example line: 2006-12-16 17:24:00,4.216,0.418,234.84,18.4,0.0,1.0,17.0,52.26667\n",
    "        row_fields = row.replace(\"\\n\",\"\").split(\",\")\n",
    "        timestamp = int(time.mktime(datetime.datetime.strptime(row_fields[0], \"%Y-%m-%d %H:%M:%S\").timetuple()))\n",
    "        data_matrix.append([timestamp, row_fields[3]])\n",
    "        \n",
    "senml_data_array = []\n",
    "for data in data_matrix:\n",
    "    # create SenML dictionary\n",
    "    senml_pack = []\n",
    "    senml_record = {\"n\":\"device0001:voltage\", \"v\":float(data[1]), \"t\": data[0]}\n",
    "    senml_pack.append(senml_record)\n",
    "    # convert into JSON:\n",
    "    json_string = json.dumps(senml_pack)    \n",
    "    senml_data_array.append(json_string)\n",
    "    \n",
    "#Open the file in write mode\n",
    "with open('../data/voltage_senml.json', 'w', newline='') as f:\n",
    "    for senml_pack_string in senml_data_array:\n",
    "        f.write(senml_pack_string+\"\\n\")\n",
    "        \n",
    "print(\"SenML Json File Correctly Created !\")"
   ]
  },
  {
   "cell_type": "code",
   "execution_count": null,
   "metadata": {},
   "outputs": [],
   "source": []
  }
 ],
 "metadata": {
  "kernelspec": {
   "display_name": "Python 3",
   "language": "python",
   "name": "python3"
  },
  "language_info": {
   "codemirror_mode": {
    "name": "ipython",
    "version": 3
   },
   "file_extension": ".py",
   "mimetype": "text/x-python",
   "name": "python",
   "nbconvert_exporter": "python",
   "pygments_lexer": "ipython3",
   "version": "3.9.0"
  }
 },
 "nbformat": 4,
 "nbformat_minor": 4
}
