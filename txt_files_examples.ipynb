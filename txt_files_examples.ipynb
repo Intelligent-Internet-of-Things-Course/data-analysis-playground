{
 "cells": [
  {
   "cell_type": "markdown",
   "metadata": {},
   "source": [
    "# Working with TXT Format"
   ]
  },
  {
   "cell_type": "code",
   "execution_count": 17,
   "metadata": {
    "scrolled": true
   },
   "outputs": [
    {
     "name": "stdout",
     "output_type": "stream",
     "text": [
      "temperature_0001:iot.dummy.sensor.temperatue:21.5:1607784715\n",
      "temperature_0001:iot.dummy.sensor.temperatue:22.5:1607785715\n",
      "temperature_0001:iot.dummy.sensor.temperatue:23.5:1607786715\n",
      "temperature_0001:iot.dummy.sensor.temperatue:20.5:1607787715\n",
      "temperature_0001:iot.dummy.sensor.temperatue:24.5:1607788715\n"
     ]
    }
   ],
   "source": [
    "import os\n",
    "\n",
    "data_folder = 'data' \n",
    "data_file = 'demo_sensor_data.txt'\n",
    "\n",
    "file_path = os.path.join(data_folder,data_file)\n",
    "\n",
    "#Open the file\n",
    "f = open(file_path)\n",
    "\n",
    "#Read the whole file as a single string\n",
    "contents = f.read()\n",
    "\n",
    "#Print the entire content\n",
    "print(contents)"
   ]
  },
  {
   "cell_type": "code",
   "execution_count": 18,
   "metadata": {},
   "outputs": [
    {
     "name": "stdout",
     "output_type": "stream",
     "text": [
      "temperature_0001:iot\n"
     ]
    }
   ],
   "source": [
    "#Print only the first 20 characters\n",
    "print(contents[:20])"
   ]
  },
  {
   "cell_type": "code",
   "execution_count": 19,
   "metadata": {},
   "outputs": [
    {
     "name": "stdout",
     "output_type": "stream",
     "text": [
      "304\n"
     ]
    }
   ],
   "source": [
    "#Content lenght\n",
    "print(len(contents))"
   ]
  },
  {
   "cell_type": "code",
   "execution_count": 23,
   "metadata": {
    "scrolled": true
   },
   "outputs": [
    {
     "name": "stdout",
     "output_type": "stream",
     "text": [
      "['temperature_0001', 'iot.dummy.sensor.temperatue', '21.5', '1607784715']\n",
      "['temperature_0001', 'iot.dummy.sensor.temperatue', '22.5', '1607785715']\n",
      "['temperature_0001', 'iot.dummy.sensor.temperatue', '23.5', '1607786715']\n",
      "['temperature_0001', 'iot.dummy.sensor.temperatue', '20.5', '1607787715']\n",
      "['temperature_0001', 'iot.dummy.sensor.temperatue', '24.5', '1607788715']\n"
     ]
    }
   ],
   "source": [
    "#Read the target file line by line and parse each line splitting by :\n",
    "with open(file_path) as file:\n",
    "    for line in file.readlines():\n",
    "        line_array = line.replace(\"\\n\",\"\").split(\":\")\n",
    "        print(line_array)"
   ]
  },
  {
   "cell_type": "code",
   "execution_count": 14,
   "metadata": {},
   "outputs": [
    {
     "name": "stdout",
     "output_type": "stream",
     "text": [
      "Read Data Array: \n",
      "\n",
      "['temperature_0001:iot.dummy.sensor.temperatue:21.5:1607784715'\n",
      " 'temperature_0001:iot.dummy.sensor.temperatue:22.5:1607785715'\n",
      " 'temperature_0001:iot.dummy.sensor.temperatue:23.5:1607786715'\n",
      " 'temperature_0001:iot.dummy.sensor.temperatue:20.5:1607787715'\n",
      " 'temperature_0001:iot.dummy.sensor.temperatue:24.5:1607788715']\n",
      "\n",
      "First 2 elements of the Data Array: \n",
      "\n",
      "['temperature_0001:iot.dummy.sensor.temperatue:21.5:1607784715'\n",
      " 'temperature_0001:iot.dummy.sensor.temperatue:22.5:1607785715']\n"
     ]
    }
   ],
   "source": [
    "#Read using NumPy\n",
    "import numpy as np\n",
    "\n",
    "data_array = np.genfromtxt(file_path,dtype='str')\n",
    "\n",
    "#Print all the data\n",
    "print(\"Read Data Array: \\n\")\n",
    "print(data_array)\n",
    "\n",
    "#Print just the first to elements of the array\n",
    "print(\"\\nFirst 2 elements of the Data Array: \\n\")\n",
    "print(data_array[:2])\n"
   ]
  }
 ],
 "metadata": {
  "kernelspec": {
   "display_name": "Python 3",
   "language": "python",
   "name": "python3"
  },
  "language_info": {
   "codemirror_mode": {
    "name": "ipython",
    "version": 3
   },
   "file_extension": ".py",
   "mimetype": "text/x-python",
   "name": "python",
   "nbconvert_exporter": "python",
   "pygments_lexer": "ipython3",
   "version": "3.9.0"
  }
 },
 "nbformat": 4,
 "nbformat_minor": 4
}
